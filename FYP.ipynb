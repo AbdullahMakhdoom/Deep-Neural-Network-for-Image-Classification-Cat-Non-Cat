{
  "nbformat": 4,
  "nbformat_minor": 0,
  "metadata": {
    "colab": {
      "name": "FYP.ipynb",
      "provenance": [],
      "authorship_tag": "ABX9TyNA8kmjFUyenCIr5a09rD1P",
      "include_colab_link": true
    },
    "kernelspec": {
      "name": "python3",
      "display_name": "Python 3"
    }
  },
  "cells": [
    {
      "cell_type": "markdown",
      "metadata": {
        "id": "view-in-github",
        "colab_type": "text"
      },
      "source": [
        "<a href=\"https://colab.research.google.com/github/AbdullahMakhdoom/Deep-Neural-Network-for-Image-Classification-Cat-Non-Cat/blob/master/FYP.ipynb\" target=\"_parent\"><img src=\"https://colab.research.google.com/assets/colab-badge.svg\" alt=\"Open In Colab\"/></a>"
      ]
    },
    {
      "cell_type": "markdown",
      "metadata": {
        "id": "8azSNd2aDoy1",
        "colab_type": "text"
      },
      "source": [
        "##  Final Year Project (2k16)\n",
        "# Person Re-Identification using Multiple Cameras \n",
        "\n",
        "\n"
      ]
    },
    {
      "cell_type": "code",
      "metadata": {
        "id": "GSiyMcuB6gPj",
        "colab_type": "code",
        "outputId": "e242172d-8fde-4b31-b361-3e1bf46c017a",
        "colab": {
          "base_uri": "https://localhost:8080/",
          "height": 34
        }
      },
      "source": [
        "import tensorflow as tf\n",
        "print(tf.__version__)"
      ],
      "execution_count": 0,
      "outputs": [
        {
          "output_type": "stream",
          "text": [
            "2.2.0-rc1\n"
          ],
          "name": "stdout"
        }
      ]
    },
    {
      "cell_type": "code",
      "metadata": {
        "id": "YJlhhBaIuvBN",
        "colab_type": "code",
        "colab": {}
      },
      "source": [
        ""
      ],
      "execution_count": 0,
      "outputs": []
    }
  ]
}